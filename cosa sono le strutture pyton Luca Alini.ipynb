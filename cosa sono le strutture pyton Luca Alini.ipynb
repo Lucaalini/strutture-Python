{
 "cells": [
  {
   "cell_type": "markdown",
   "id": "de0bd1d2",
   "metadata": {},
   "source": [
    "# STRUTTURE PYTON"
   ]
  },
  {
   "cell_type": "markdown",
   "id": "01f7ad57",
   "metadata": {},
   "source": [
    "### cosa sono?"
   ]
  },
  {
   "cell_type": "markdown",
   "id": "362cca26",
   "metadata": {},
   "source": [
    "\n",
    "Le \"strutture\" in Python si riferiscono ai diversi tipi di dati e alle loro organizzazioni. Python offre diverse strutture dati incorporate, ognuna delle quali è adatta a scopi specifici. Ecco le principali strutture dati in Python che abbiamo fatto:\n",
    "\n"
   ]
  },
  {
   "cell_type": "markdown",
   "id": "68e94bf4",
   "metadata": {},
   "source": [
    "## VARIABILI"
   ]
  },
  {
   "cell_type": "markdown",
   "id": "07f999ff",
   "metadata": {},
   "source": [
    "1. le variabili sono strutture utilizzate per memorizzare dati in una sorta di \"contenitore\". Ogni variabile ha un nome univoco e può contenere valori di diversi tipi, come numeri, stringhe o strutture dati. Le variabili possono essere create, modificate e utilizzate per eseguire operazioni nei programmi Python. Sono fondamentali per gestire e manipolare dati durante l'esecuzione del programma."
   ]
  },
  {
   "cell_type": "markdown",
   "id": "8015b0bc",
   "metadata": {},
   "source": [
    "## numerica"
   ]
  },
  {
   "cell_type": "markdown",
   "id": "be829af9",
   "metadata": {},
   "source": [
    "In questo esempio, viene dichiarata e assegnata una variabile numerica chiamata numero. Successivamente, viene stampato il valore della variabile e viene eseguita un'operazione aritmetica utilizzando il valore della variabile."
   ]
  },
  {
   "cell_type": "code",
   "execution_count": 17,
   "id": "77182073",
   "metadata": {},
   "outputs": [
    {
     "name": "stdout",
     "output_type": "stream",
     "text": [
      "Il valore della variabile 'numero' è: 10\n",
      "Il doppio della variabile 'numero' è: 20\n"
     ]
    }
   ],
   "source": [
    "# Dichiarazione e assegnazione di una variabile numerica\n",
    "numero = 10\n",
    "\n",
    "# Stampa della variabile\n",
    "print(\"Il valore della variabile 'numero' è:\", numero)  # Output: Il valore della variabile 'numero' è: 10\n",
    "\n",
    "# Operazioni con la variabile\n",
    "numero_doppio = numero * 2\n",
    "print(\"Il doppio della variabile 'numero' è:\", numero_doppio)  # Output: Il doppio della variabile 'numero' è: 20\n"
   ]
  },
  {
   "cell_type": "markdown",
   "id": "c17fdd1b",
   "metadata": {},
   "source": [
    "## stringa"
   ]
  },
  {
   "cell_type": "markdown",
   "id": "29567af3",
   "metadata": {},
   "source": [
    "In questo esempio, viene dichiarata e assegnata una variabile stringa chiamata nome. Successivamente, viene stampato il valore della variabile e viene eseguita un'operazione di concatenazione di stringhe per creare un messaggio di saluto personalizzato."
   ]
  },
  {
   "cell_type": "code",
   "execution_count": 18,
   "id": "f9d81920",
   "metadata": {},
   "outputs": [
    {
     "name": "stdout",
     "output_type": "stream",
     "text": [
      "Il valore della variabile 'nome' è: Alice\n",
      "Ciao, Alice!\n"
     ]
    }
   ],
   "source": [
    "# Dichiarazione e assegnazione di una variabile stringa\n",
    "nome = \"Alice\"\n",
    "\n",
    "# Stampa della variabile\n",
    "print(\"Il valore della variabile 'nome' è:\", nome)  # Output: Il valore della variabile 'nome' è: Alice\n",
    "\n",
    "# Operazioni con la variabile\n",
    "saluto = \"Ciao, \" + nome + \"!\"\n",
    "print(saluto)  # Output: Ciao, Alice!\n"
   ]
  },
  {
   "cell_type": "markdown",
   "id": "979ea6c9",
   "metadata": {},
   "source": [
    "## LISTE"
   ]
  },
  {
   "cell_type": "markdown",
   "id": "84461511",
   "metadata": {},
   "source": [
    "2. Liste (Lists): Sono collezioni ordinate e mutabili di elementi. Gli elementi in una lista possono essere di qualsiasi tipo e possono essere modificati dopo la creazione."
   ]
  },
  {
   "cell_type": "markdown",
   "id": "015525e4",
   "metadata": {},
   "source": [
    "## lista di numeri"
   ]
  },
  {
   "cell_type": "markdown",
   "id": "3dc98cd4",
   "metadata": {},
   "source": [
    "Questo codice mostra come creare una lista, accedere agli elementi della lista tramite gli indici, modificare la lista, aggiungere e rimuovere elementi. Le liste sono molto versatili e vengono utilizzate ampiamente in Python per memorizzare collezioni di dati ordinati."
   ]
  },
  {
   "cell_type": "code",
   "execution_count": 1,
   "id": "90e6875f",
   "metadata": {},
   "outputs": [
    {
     "name": "stdout",
     "output_type": "stream",
     "text": [
      "Primo elemento della lista: 1\n",
      "Ultimo elemento della lista: 5\n",
      "Lista dopo la modifica: [1, 2, 10, 4, 5]\n",
      "Lista dopo l'aggiunta di un elemento: [1, 2, 10, 4, 5, 6]\n",
      "Elemento rimosso dalla lista: 10\n",
      "Lista dopo la rimozione: [1, 2, 4, 5, 6]\n",
      "Elementi della lista:\n",
      "1\n",
      "2\n",
      "4\n",
      "5\n",
      "6\n"
     ]
    }
   ],
   "source": [
    "# Creazione di una lista di numeri\n",
    "numeri = [1, 2, 3, 4, 5]\n",
    "\n",
    "# Accesso agli elementi della lista tramite indice\n",
    "print(\"Primo elemento della lista:\", numeri[0])  # Output: 1\n",
    "print(\"Ultimo elemento della lista:\", numeri[-1])  # Output: 5\n",
    "\n",
    "# Modifica di un elemento della lista\n",
    "numeri[2] = 10\n",
    "print(\"Lista dopo la modifica:\", numeri)  # Output: [1, 2, 10, 4, 5]\n",
    "\n",
    "# Aggiunta di un elemento alla fine della lista\n",
    "numeri.append(6)\n",
    "print(\"Lista dopo l'aggiunta di un elemento:\", numeri)  # Output: [1, 2, 10, 4, 5, 6]\n",
    "\n",
    "# Rimozione di un elemento dalla lista\n",
    "elemento_rimosso = numeri.pop(2)  # Rimuove l'elemento con indice 2\n",
    "print(\"Elemento rimosso dalla lista:\", elemento_rimosso)  # Output: 10\n",
    "print(\"Lista dopo la rimozione:\", numeri)  # Output: [1, 2, 4, 5, 6]\n",
    "\n",
    "# Iterazione attraverso gli elementi della lista\n",
    "print(\"Elementi della lista:\")\n",
    "for numero in numeri:\n",
    "    print(numero)\n"
   ]
  },
  {
   "cell_type": "markdown",
   "id": "d7343838",
   "metadata": {},
   "source": [
    "## Indovina il numero"
   ]
  },
  {
   "cell_type": "markdown",
   "id": "b20b635c",
   "metadata": {},
   "source": [
    "il codice implementa un semplice gioco in cui il giocatore deve indovinare uno dei numeri generati casualmente all'interno di una lista. Il giocatore ha tre tentativi per indovinare uno di questi numeri. Se riesce a indovinare correttamente, riceve un messaggio di congratulazioni. Se non riesce, il gioco termina e vengono mostrati i numeri che dovevano essere indovinati."
   ]
  },
  {
   "cell_type": "code",
   "execution_count": 10,
   "id": "46236225",
   "metadata": {},
   "outputs": [
    {
     "name": "stdout",
     "output_type": "stream",
     "text": [
      "Ho generato una lista di 5 numeri tra 1 e 10. Hai tre tentativi per indovinare uno dei numeri nella lista.\n",
      "Inserisci un numero tra 1 e 10: 3\n",
      "Sbagliato! Hai ancora 2 tentativi.\n",
      "Inserisci un numero tra 1 e 10: 4\n",
      "Sbagliato! Hai ancora 1 tentativi.\n",
      "Inserisci un numero tra 1 e 10: 5\n",
      "Sbagliato! Hai ancora 0 tentativi.\n",
      "Mi dispiace, hai finito i tentativi. I numeri erano: [9, 9, 9, 10, 8]\n"
     ]
    }
   ],
   "source": [
    "import random\n",
    "\n",
    "def gioco_indovina_numero():\n",
    "    numeri = [random.randint(1,10) for _ in range(5)]\n",
    "    tentativi = 3\n",
    "\n",
    "    print(\"Ho generato una lista di 5 numeri tra 1 e 10. Hai tre tentativi per indovinare uno dei numeri nella lista.\")\n",
    "\n",
    "    while tentativi > 0:\n",
    "        tentativo = int(input(\"Inserisci un numero tra 1 e 10: \"))\n",
    "        if tentativo in numeri:\n",
    "            print(f\"Complimenti! Hai indovinato un numero della lista: {tentativo}\")\n",
    "            break\n",
    "        else:\n",
    "            tentativi -= 1\n",
    "            print(f\"Sbagliato! Hai ancora {tentativi} tentativi.\")\n",
    "\n",
    "    if tentativi == 0:\n",
    "        print(f\"Mi dispiace, hai finito i tentativi. I numeri erano: {numeri}\")\n",
    "\n",
    "gioco_indovina_numero()"
   ]
  },
  {
   "cell_type": "markdown",
   "id": "3b146671",
   "metadata": {},
   "source": [
    "## DIZIONARI"
   ]
  },
  {
   "cell_type": "markdown",
   "id": "6a5fa396",
   "metadata": {},
   "source": [
    "3. Dizionari (Dictionaries): Strutture dati che memorizzano coppie di chiavi e valori. I dizionari sono non ordinati, ma sono ottimizzati per l'accesso rapido ai valori tramite le chiavi."
   ]
  },
  {
   "cell_type": "markdown",
   "id": "948e6891",
   "metadata": {},
   "source": [
    "## Rubrica telefonica"
   ]
  },
  {
   "cell_type": "markdown",
   "id": "4dc11571",
   "metadata": {},
   "source": [
    "Questo codice crea un dizionario di contatti telefonici, accede agli elementi del dizionario utilizzando le chiavi, aggiunge un nuovo contatto e stampa l'intera rubrica telefonica."
   ]
  },
  {
   "cell_type": "code",
   "execution_count": 12,
   "id": "abd0f6f6",
   "metadata": {},
   "outputs": [
    {
     "name": "stdout",
     "output_type": "stream",
     "text": [
      "Numero di telefono di Alice: 123456789\n",
      "Numero di telefono di Bob: 987654321\n",
      "Rubrica telefonica completa:\n",
      "Alice: 123456789\n",
      "Bob: 987654321\n",
      "Charlie: 456789123\n",
      "David: 999888777\n"
     ]
    }
   ],
   "source": [
    "# Creazione di un dizionario di contatti telefonici\n",
    "rubrica_telefonica = {\n",
    "    \"Alice\": \"123456789\",\n",
    "    \"Bob\": \"987654321\",\n",
    "    \"Charlie\": \"456789123\"\n",
    "}\n",
    "\n",
    "# Accesso agli elementi del dizionario tramite le chiavi\n",
    "print(\"Numero di telefono di Alice:\", rubrica_telefonica[\"Alice\"])  # Output: 123456789\n",
    "print(\"Numero di telefono di Bob:\", rubrica_telefonica[\"Bob\"])  # Output: 987654321\n",
    "\n",
    "# Aggiunta di un nuovo contatto\n",
    "rubrica_telefonica[\"David\"] = \"999888777\"\n",
    "\n",
    "# Stampa della rubrica telefonica\n",
    "print(\"Rubrica telefonica completa:\")\n",
    "for nome, numero in rubrica_telefonica.items():\n",
    "    print(f\"{nome}: {numero}\")\n"
   ]
  },
  {
   "cell_type": "markdown",
   "id": "0c677fbc",
   "metadata": {},
   "source": [
    "## Temperatura"
   ]
  },
  {
   "cell_type": "markdown",
   "id": "76f99b4c",
   "metadata": {},
   "source": [
    "Questo codice rappresenta un dizionario delle temperature di diverse città. Stampa le temperature attuali, aggiorna la temperatura di New York e stampa le temperature aggiornate."
   ]
  },
  {
   "cell_type": "code",
   "execution_count": 11,
   "id": "0ea7af12",
   "metadata": {},
   "outputs": [
    {
     "name": "stdout",
     "output_type": "stream",
     "text": [
      "Temperature attuali:\n",
      "New York: 15°C\n",
      "Los Angeles: 25°C\n",
      "Tokyo: 20°C\n",
      "Roma: 18°C\n",
      "\n",
      "Temperature aggiornate:\n",
      "New York: 20°C\n",
      "Los Angeles: 25°C\n",
      "Tokyo: 20°C\n",
      "Roma: 18°C\n"
     ]
    }
   ],
   "source": [
    "# Creazione di un dizionario delle temperature\n",
    "temperature_citta = {\n",
    "    \"New York\": 15,\n",
    "    \"Los Angeles\": 25,\n",
    "    \"Tokyo\": 20,\n",
    "    \"Roma\": 18\n",
    "}\n",
    "\n",
    "# Stampa delle temperature delle città\n",
    "print(\"Temperature attuali:\")\n",
    "for citta, temperatura in temperature_citta.items():\n",
    "    print(f\"{citta}: {temperatura}°C\")\n",
    "\n",
    "# Aggiornamento della temperatura di una città\n",
    "temperature_citta[\"New York\"] = 20\n",
    "\n",
    "# Stampa delle temperature aggiornate\n",
    "print(\"\\nTemperature aggiornate:\")\n",
    "for citta, temperatura in temperature_citta.items():\n",
    "    print(f\"{citta}: {temperatura}°C\")\n"
   ]
  },
  {
   "cell_type": "markdown",
   "id": "d44e6410",
   "metadata": {},
   "source": [
    "## TUBLE"
   ]
  },
  {
   "cell_type": "markdown",
   "id": "ae52191d",
   "metadata": {},
   "source": [
    "4. Tuple: Simili alle liste, ma sono immutabili, il che significa che una volta create, non possono essere modificate. Le tuple sono spesso utilizzate per memorizzare collezioni di dati eterogenei."
   ]
  },
  {
   "cell_type": "markdown",
   "id": "62ce558d",
   "metadata": {},
   "source": [
    "## coordinate"
   ]
  },
  {
   "cell_type": "markdown",
   "id": "5b5a0e69",
   "metadata": {},
   "source": [
    "In questo esempio, viene creata una tupla che rappresenta le coordinate di un punto nello spazio bidimensionale. Viene quindi acceduto agli elementi della tupla utilizzando gli indici e iterato attraverso di essi."
   ]
  },
  {
   "cell_type": "code",
   "execution_count": 13,
   "id": "5061de82",
   "metadata": {},
   "outputs": [
    {
     "name": "stdout",
     "output_type": "stream",
     "text": [
      "Coordiante x: 3\n",
      "Coordiante y: 5\n",
      "Coordinate del punto:\n",
      "3\n",
      "5\n"
     ]
    }
   ],
   "source": [
    "# Creazione di una tupla di coordinate\n",
    "coordinate_punto = (3, 5)\n",
    "\n",
    "# Accesso agli elementi della tupla tramite gli indici\n",
    "print(\"Coordiante x:\", coordinate_punto[0])  # Output: 3\n",
    "print(\"Coordiante y:\", coordinate_punto[1])  # Output: 5\n",
    "\n",
    "# Iterazione attraverso gli elementi della tupla\n",
    "print(\"Coordinate del punto:\")\n",
    "for coordinata in coordinate_punto:\n",
    "    print(coordinata)\n"
   ]
  },
  {
   "cell_type": "markdown",
   "id": "f8308ab4",
   "metadata": {},
   "source": [
    "## informazioni su una persona"
   ]
  },
  {
   "cell_type": "markdown",
   "id": "378844d7",
   "metadata": {},
   "source": [
    "In questo esempio, viene creata una tupla che contiene informazioni su una persona, come nome, età e città di residenza. Viene quindi acceduto agli elementi della tupla utilizzando gli indici."
   ]
  },
  {
   "cell_type": "code",
   "execution_count": 14,
   "id": "d208c2d2",
   "metadata": {},
   "outputs": [
    {
     "name": "stdout",
     "output_type": "stream",
     "text": [
      "Nome: Alice\n",
      "Età: 30\n",
      "Città: New York\n"
     ]
    }
   ],
   "source": [
    "# Creazione di una tupla di informazioni su una persona\n",
    "informazioni_persona = (\"Alice\", 30, \"New York\")\n",
    "\n",
    "# Accesso agli elementi della tupla tramite gli indici\n",
    "print(\"Nome:\", informazioni_persona[0])  # Output: Alice\n",
    "print(\"Età:\", informazioni_persona[1])   # Output: 30\n",
    "print(\"Città:\", informazioni_persona[2]) # Output: New York\n"
   ]
  }
 ],
 "metadata": {
  "kernelspec": {
   "display_name": "Python 3 (ipykernel)",
   "language": "python",
   "name": "python3"
  },
  "language_info": {
   "codemirror_mode": {
    "name": "ipython",
    "version": 3
   },
   "file_extension": ".py",
   "mimetype": "text/x-python",
   "name": "python",
   "nbconvert_exporter": "python",
   "pygments_lexer": "ipython3",
   "version": "3.11.5"
  }
 },
 "nbformat": 4,
 "nbformat_minor": 5
}
